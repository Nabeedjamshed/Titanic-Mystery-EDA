{
 "cells": [
  {
   "cell_type": "code",
   "execution_count": null,
   "id": "b0ef93d5-5389-45ed-9139-52c574675bfb",
   "metadata": {},
   "outputs": [],
   "source": [
    "import numpy as np\n",
    "import pandas as pd\n",
    "import matplotlib.pyplot as plt\n",
    "import seaborn as sns"
   ]
  },
  {
   "cell_type": "code",
   "execution_count": null,
   "id": "ac4be344-24ea-4054-9262-88775c9e12db",
   "metadata": {},
   "outputs": [],
   "source": [
    "df = pd.read_csv('titanic.csv')\n",
    "df.head()"
   ]
  },
  {
   "cell_type": "code",
   "execution_count": null,
   "id": "6dd2e65e-857a-43a5-9364-f350289998d8",
   "metadata": {},
   "outputs": [],
   "source": [
    "df.sample(5)"
   ]
  },
  {
   "cell_type": "code",
   "execution_count": null,
   "id": "9b1a6ae6-94d3-4534-8196-23bf00839a6f",
   "metadata": {},
   "outputs": [],
   "source": [
    "df.info()"
   ]
  },
  {
   "cell_type": "code",
   "execution_count": null,
   "id": "584c6dad-395f-436e-b43c-d16f9e7a616a",
   "metadata": {},
   "outputs": [],
   "source": [
    "df.shape"
   ]
  },
  {
   "cell_type": "code",
   "execution_count": null,
   "id": "868c7cb9-b2c6-4239-b234-5d588e636380",
   "metadata": {},
   "outputs": [],
   "source": [
    "df.size"
   ]
  },
  {
   "cell_type": "code",
   "execution_count": null,
   "id": "783c1f89-bc1f-4485-a096-f1c93ae3b3b5",
   "metadata": {},
   "outputs": [],
   "source": [
    "df.isnull().sum()"
   ]
  },
  {
   "cell_type": "code",
   "execution_count": null,
   "id": "51aa3419-86de-432b-93cb-5a5e01d6413e",
   "metadata": {},
   "outputs": [],
   "source": [
    "df.isnull().sum() * 100 / len(df)"
   ]
  },
  {
   "cell_type": "code",
   "execution_count": null,
   "id": "30c0d456-7d77-4123-9900-2b1311723ea8",
   "metadata": {},
   "outputs": [],
   "source": [
    "df.describe()"
   ]
  },
  {
   "cell_type": "code",
   "execution_count": null,
   "id": "95309418-142a-412a-bf1c-e96d20d39558",
   "metadata": {},
   "outputs": [],
   "source": [
    "df.duplicated().sum()"
   ]
  },
  {
   "cell_type": "code",
   "execution_count": null,
   "id": "9b05ba5a-c3ed-4eb7-9d8e-ac45d912e348",
   "metadata": {},
   "outputs": [],
   "source": [
    "num_df = df.select_dtypes([int,float])\n",
    "num_df.head()"
   ]
  },
  {
   "cell_type": "code",
   "execution_count": null,
   "id": "273d6437-18d5-436a-9e45-4abac6fa3875",
   "metadata": {},
   "outputs": [],
   "source": [
    "num_df.corr()"
   ]
  },
  {
   "cell_type": "code",
   "execution_count": null,
   "id": "5e556ec2-7c5d-42f8-a4da-f570dc34cc54",
   "metadata": {},
   "outputs": [],
   "source": [
    "sns.countplot(df['Sex'])\n",
    "df['Sex'].value_counts()"
   ]
  },
  {
   "cell_type": "code",
   "execution_count": null,
   "id": "612d0c68-e26b-4d85-a397-126c61b94a1f",
   "metadata": {},
   "outputs": [],
   "source": [
    "count = df['Sex'].value_counts()\n",
    "plt.pie(count, labels=count.index, autopct='%1.1f%%')\n",
    "plt.title('Gender Distribution on Titanic')\n",
    "plt.show()"
   ]
  },
  {
   "cell_type": "code",
   "execution_count": null,
   "id": "8cebf6f7-1527-4fea-abc4-39bef29d85f5",
   "metadata": {},
   "outputs": [],
   "source": [
    "sns.countplot(x='Survived', data=df)\n",
    "plt.title('Count of Survival (0 = Not Survived, 1 = Survived)')\n",
    "plt.show()\n",
    "df['Survived'].value_counts()"
   ]
  },
  {
   "cell_type": "code",
   "execution_count": null,
   "id": "5a31d215-8d7a-4758-a5fa-907eea4af595",
   "metadata": {},
   "outputs": [],
   "source": [
    "counts = df['Survived'].value_counts()\n",
    "plt.pie(counts, labels=['Not Survived', 'Survived'], autopct='%1.1f%%', colors=['skyblue', 'pink'])\n",
    "plt.show()"
   ]
  },
  {
   "cell_type": "code",
   "execution_count": null,
   "id": "8869523f-ffea-486c-b4ec-cfd819b6ea91",
   "metadata": {},
   "outputs": [],
   "source": [
    "sns.countplot(x='Pclass', data=df)"
   ]
  },
  {
   "cell_type": "code",
   "execution_count": null,
   "id": "866e7fef-bc18-43b5-bad9-1b00ae86cb71",
   "metadata": {},
   "outputs": [],
   "source": [
    "sns.countplot(x='SibSp', data=df)\n",
    "df['SibSp'].value_counts()"
   ]
  },
  {
   "cell_type": "code",
   "execution_count": null,
   "id": "c2ea524a-468d-4d10-9c5e-5e8394631e90",
   "metadata": {},
   "outputs": [],
   "source": [
    "sns.countplot(x='Parch', data=df)\n",
    "df['SibSp'].value_counts()"
   ]
  },
  {
   "cell_type": "code",
   "execution_count": null,
   "id": "e4a11bd7-49ba-4f22-aca2-8c1ca98d7d57",
   "metadata": {},
   "outputs": [],
   "source": [
    "sns.countplot(x='Embarked', data=df)\n",
    "plt.title('S: Southampton (England), C: Cherbourg (France), Q: Queenstown (Ireland)')\n",
    "df['Embarked'].value_counts()"
   ]
  },
  {
   "cell_type": "code",
   "execution_count": null,
   "id": "77c7e7d6-40ed-44a7-b979-2b811eba3960",
   "metadata": {},
   "outputs": [],
   "source": [
    "plt.hist(df['Age'])\n",
    "plt.show()"
   ]
  },
  {
   "cell_type": "code",
   "execution_count": null,
   "id": "75f0779a-a0eb-4f05-b795-47d27cba3f2c",
   "metadata": {},
   "outputs": [],
   "source": [
    "sns.displot(df['Age'])"
   ]
  },
  {
   "cell_type": "code",
   "execution_count": null,
   "id": "42c5dd8a-c715-4aed-9d60-30b0278c4b3f",
   "metadata": {},
   "outputs": [],
   "source": [
    "sns.boxplot(df['Age'], orient='h')"
   ]
  },
  {
   "cell_type": "code",
   "execution_count": null,
   "id": "7863081a-a06c-4fb9-8e54-69b859abd5da",
   "metadata": {},
   "outputs": [],
   "source": [
    "df['Age'].mean()"
   ]
  },
  {
   "cell_type": "code",
   "execution_count": null,
   "id": "6e44f577-478c-43dc-b01f-08458fb94c1c",
   "metadata": {},
   "outputs": [],
   "source": [
    "df['Age'].median()"
   ]
  },
  {
   "cell_type": "code",
   "execution_count": null,
   "id": "d7b97a5b-137a-4e8f-bd10-86714b14be4a",
   "metadata": {},
   "outputs": [],
   "source": [
    "df['Age'].min()"
   ]
  },
  {
   "cell_type": "code",
   "execution_count": null,
   "id": "19ed6d95-8295-4caf-ac78-dccab8abc0aa",
   "metadata": {},
   "outputs": [],
   "source": [
    "df['Age'].max()"
   ]
  },
  {
   "cell_type": "code",
   "execution_count": null,
   "id": "4fd27d2d-1fbc-4940-823a-b9f082a5d79a",
   "metadata": {},
   "outputs": [],
   "source": [
    "df['Age'].std()"
   ]
  },
  {
   "cell_type": "code",
   "execution_count": null,
   "id": "0f4901b4-158f-4c55-981e-b6ea7ac06e7a",
   "metadata": {},
   "outputs": [],
   "source": [
    "df['Age'].skew() #Positively Skewed"
   ]
  },
  {
   "cell_type": "code",
   "execution_count": null,
   "id": "62e7aa65-9587-4385-8584-78d819f8489a",
   "metadata": {},
   "outputs": [],
   "source": [
    "plt.hist(df['Fare'])\n",
    "plt.show()"
   ]
  },
  {
   "cell_type": "code",
   "execution_count": null,
   "id": "6b09eae1-c3b5-495a-bd26-1738a125678b",
   "metadata": {},
   "outputs": [],
   "source": [
    "df['Fare'].max()"
   ]
  },
  {
   "cell_type": "code",
   "execution_count": null,
   "id": "fabb72ca-5016-4857-8629-06782110f043",
   "metadata": {},
   "outputs": [],
   "source": [
    "df['Fare'].min()"
   ]
  },
  {
   "cell_type": "code",
   "execution_count": null,
   "id": "f8b435fd-01df-41f0-a047-943662065566",
   "metadata": {},
   "outputs": [],
   "source": [
    "df[df['Fare'] == 0.0]"
   ]
  },
  {
   "cell_type": "code",
   "execution_count": null,
   "id": "50bc376e-10a3-40e5-b6ae-bbbd35693218",
   "metadata": {},
   "outputs": [],
   "source": [
    "sns.boxplot(df['Fare'], orient='h')"
   ]
  },
  {
   "cell_type": "code",
   "execution_count": null,
   "id": "24f7f31e-3f31-4f42-b071-aa266b9e0457",
   "metadata": {},
   "outputs": [],
   "source": [
    "df.head()"
   ]
  },
  {
   "cell_type": "code",
   "execution_count": null,
   "id": "e530f701-247a-42f7-bad6-f5c6c7874d2e",
   "metadata": {},
   "outputs": [],
   "source": [
    "sns.scatterplot(df, x='Age', y='Fare')"
   ]
  },
  {
   "cell_type": "code",
   "execution_count": null,
   "id": "17d9f5b1-8d48-48c4-9f36-abe14b1075ec",
   "metadata": {},
   "outputs": [],
   "source": [
    "sns.barplot(df, x='Pclass', y='Age')"
   ]
  },
  {
   "cell_type": "code",
   "execution_count": null,
   "id": "5b206d06-b47d-478f-aa74-c62ab1c56896",
   "metadata": {},
   "outputs": [],
   "source": [
    "sns.barplot(df, x='Sex', y='Age', hue='Pclass')"
   ]
  },
  {
   "cell_type": "code",
   "execution_count": null,
   "id": "e0a7ed4e-522b-4700-ad6d-73656ebe7ee5",
   "metadata": {},
   "outputs": [],
   "source": [
    "sns.barplot(df, x='Survived', y='Age', hue='Sex')"
   ]
  },
  {
   "cell_type": "code",
   "execution_count": null,
   "id": "d16f53ee-b7f2-4cfd-917c-cb7d072b5b48",
   "metadata": {},
   "outputs": [],
   "source": [
    "sns.barplot(df, x='Pclass', y='Fare', hue='Survived')"
   ]
  },
  {
   "cell_type": "code",
   "execution_count": null,
   "id": "1565240b-6bc0-467c-baf1-030d1b8ec3f8",
   "metadata": {},
   "outputs": [],
   "source": [
    "sns.countplot(df,x='Pclass',hue='Sex')"
   ]
  },
  {
   "cell_type": "code",
   "execution_count": null,
   "id": "6a8c060c-7bfb-4bfe-b42a-12260d73a687",
   "metadata": {},
   "outputs": [],
   "source": [
    "sns.barplot(df, x='Embarked', y='Fare')\n",
    "plt.title('S: Southampton (England), C: Cherbourg (France), Q: Queenstown (Ireland)')"
   ]
  },
  {
   "cell_type": "code",
   "execution_count": null,
   "id": "5cec85c0-5e09-4ad9-bdf9-b7579c2149d8",
   "metadata": {},
   "outputs": [],
   "source": [
    "sns.boxplot(df, x='Survived', y='Fare')"
   ]
  },
  {
   "cell_type": "code",
   "execution_count": null,
   "id": "fb881dbb-af1a-43c5-9116-661853812937",
   "metadata": {},
   "outputs": [],
   "source": [
    "pd.crosstab(df['Survived'], df['Pclass'])"
   ]
  },
  {
   "cell_type": "code",
   "execution_count": null,
   "id": "e30b2265-983e-4ef9-b34a-c700583c4517",
   "metadata": {},
   "outputs": [],
   "source": [
    "sns.heatmap(pd.crosstab(df['Survived'], df['Pclass']))"
   ]
  },
  {
   "cell_type": "code",
   "execution_count": null,
   "id": "78e0b2a4-56d3-4242-a931-ae032558a73f",
   "metadata": {},
   "outputs": [],
   "source": [
    "df.info()"
   ]
  },
  {
   "cell_type": "code",
   "execution_count": null,
   "id": "ef5d712d-abfa-4d32-bf6c-4567fa452e61",
   "metadata": {},
   "outputs": [],
   "source": [
    "pd.crosstab(df['Survived'], df['Pclass'], normalize='index') * 100"
   ]
  },
  {
   "cell_type": "code",
   "execution_count": null,
   "id": "c6aa303e-12e2-45a3-a29c-d691e57fb433",
   "metadata": {},
   "outputs": [],
   "source": [
    "num2_df = df[['Age', 'Survived', 'Fare', 'Pclass']]\n",
    "num2_df"
   ]
  },
  {
   "cell_type": "code",
   "execution_count": null,
   "id": "82b1d12d-b9ca-4ebd-b08c-ef53c7cd8df3",
   "metadata": {},
   "outputs": [],
   "source": [
    "sns.pairplot(num2_df)"
   ]
  },
  {
   "cell_type": "code",
   "execution_count": null,
   "id": "5a6f6f24-33ba-452f-9658-fae570a45799",
   "metadata": {},
   "outputs": [],
   "source": [
    "pd.pivot_table(df,values='Fare', index='Survived', columns='Pclass', aggfunc='mean')"
   ]
  },
  {
   "cell_type": "code",
   "execution_count": null,
   "id": "ff3275d6-c0a7-4d87-a4b9-31cb434670b5",
   "metadata": {},
   "outputs": [],
   "source": [
    "df['Pclass'].value_counts()"
   ]
  },
  {
   "cell_type": "code",
   "execution_count": null,
   "id": "e96cda78-135d-41c5-b88d-533074800d4d",
   "metadata": {},
   "outputs": [],
   "source": [
    "df.groupby('Sex')['Survived'].mean() * 100"
   ]
  },
  {
   "cell_type": "code",
   "execution_count": null,
   "id": "9054b236-ef97-409c-a0fd-48bceb2087f1",
   "metadata": {},
   "outputs": [],
   "source": [
    "df.groupby('Pclass')['Survived'].mean() * 100"
   ]
  },
  {
   "cell_type": "code",
   "execution_count": null,
   "id": "3837ca9d-c0b2-4641-aef7-a92966353c03",
   "metadata": {},
   "outputs": [],
   "source": [
    "sns.histplot(df[df['Survived'] == 1]['Age'], kde=True, label='Survived', color='green', alpha=0.6)\n",
    "sns.histplot(df[df['Survived'] == 0]['Age'], kde=True, label='Not Survived', color='red', alpha=0.6)\n",
    "plt.legend()\n",
    "plt.title('Age-wise Survival Distribution')\n",
    "plt.show()"
   ]
  },
  {
   "cell_type": "code",
   "execution_count": null,
   "id": "a91d6291-dcdc-4237-8d97-d7a7da6e404c",
   "metadata": {},
   "outputs": [],
   "source": [
    "df[['Fare', 'Survived']].corr()"
   ]
  },
  {
   "cell_type": "code",
   "execution_count": null,
   "id": "0d88bc7c-5bf7-4dfa-9875-2518439fd8f5",
   "metadata": {},
   "outputs": [],
   "source": [
    "sns.boxplot(x='Pclass', y='Fare', data=df)\n",
    "plt.title('Fare Distribution by Passenger Class')\n",
    "plt.show()"
   ]
  },
  {
   "cell_type": "code",
   "execution_count": null,
   "id": "9f038edd-d452-4826-b9c7-b9c35d10e340",
   "metadata": {},
   "outputs": [],
   "source": [
    "df['FamilySize'] = df['SibSp'] + df['Parch'] + 1 #Add 1 bcz us bnde ko bhi add krlie\n",
    "df.groupby('FamilySize')['Survived'].mean()"
   ]
  },
  {
   "cell_type": "code",
   "execution_count": null,
   "id": "d61599cb-52bc-481e-9de5-5a37a570eba8",
   "metadata": {},
   "outputs": [],
   "source": [
    "sns.barplot(x='FamilySize', y='Survived', data=df)\n",
    "plt.title('Family Size and Survival')\n",
    "plt.show()"
   ]
  },
  {
   "cell_type": "code",
   "execution_count": null,
   "id": "05eadaee-1bbb-4693-9d8a-e1c9d3059822",
   "metadata": {},
   "outputs": [],
   "source": [
    "df['HasCabin'] = df['Cabin'].notnull().astype(int)\n",
    "df.groupby('HasCabin')['Survived'].mean()"
   ]
  },
  {
   "cell_type": "code",
   "execution_count": null,
   "id": "cb0ee028-e984-4976-af6a-b9a0701c9fba",
   "metadata": {},
   "outputs": [],
   "source": [
    "df.groupby('Embarked')['Survived'].mean()"
   ]
  },
  {
   "cell_type": "code",
   "execution_count": null,
   "id": "5f0ad14f-272e-464f-bff6-85545e75c4be",
   "metadata": {},
   "outputs": [],
   "source": [
    "sns.catplot(x='Pclass', hue='Sex', col='Survived', data=df, kind='count')\n",
    "plt.show()"
   ]
  },
  {
   "cell_type": "code",
   "execution_count": null,
   "id": "56b35160-0112-4e68-9da5-6178e4ab2172",
   "metadata": {},
   "outputs": [],
   "source": [
    "sns.heatmap(num_df.corr(), annot=True, cmap='coolwarm')\n",
    "plt.title('Correlation Heatmap')\n",
    "plt.show()"
   ]
  },
  {
   "cell_type": "code",
   "execution_count": null,
   "id": "0e7f48e5-897b-485f-946c-a5cfd01080f6",
   "metadata": {},
   "outputs": [],
   "source": []
  }
 ],
 "metadata": {
  "kernelspec": {
   "display_name": "Python 3 (ipykernel)",
   "language": "python",
   "name": "python3"
  },
  "language_info": {
   "codemirror_mode": {
    "name": "ipython",
    "version": 3
   },
   "file_extension": ".py",
   "mimetype": "text/x-python",
   "name": "python",
   "nbconvert_exporter": "python",
   "pygments_lexer": "ipython3",
   "version": "3.11.5"
  }
 },
 "nbformat": 4,
 "nbformat_minor": 5
}
